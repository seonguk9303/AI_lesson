{
  "nbformat": 4,
  "nbformat_minor": 0,
  "metadata": {
    "colab": {
      "provenance": [],
      "collapsed_sections": [],
      "authorship_tag": "ABX9TyPi+AmxBIYaP+0d5nXBejyO",
      "include_colab_link": true
    },
    "kernelspec": {
      "name": "python3",
      "display_name": "Python 3"
    },
    "language_info": {
      "name": "python"
    }
  },
  "cells": [
    {
      "cell_type": "markdown",
      "metadata": {
        "id": "view-in-github",
        "colab_type": "text"
      },
      "source": [
        "<a href=\"https://colab.research.google.com/github/seonguk9303/AI_lesson/blob/main/221104.ipynb\" target=\"_parent\"><img src=\"https://colab.research.google.com/assets/colab-badge.svg\" alt=\"Open In Colab\"/></a>"
      ]
    },
    {
      "cell_type": "code",
      "execution_count": null,
      "metadata": {
        "id": "S2iwuY-1AFRm"
      },
      "outputs": [],
      "source": [
        "# news_small.zip 파일 업로드\n",
        "# 압축 풀어 103폴더를 working dic 지정\n",
        "# 103폴더 파일 하나씩 읽어 Kkma 사용 각 명사만 추출하여 리스트로\n",
        "# 전체 결과를 하나의 리스트로"
      ]
    },
    {
      "cell_type": "code",
      "source": [
        "!unzip news_small.zip"
      ],
      "metadata": {
        "id": "mAJPLKodAoTG"
      },
      "execution_count": null,
      "outputs": []
    },
    {
      "cell_type": "code",
      "source": [
        "!pip install konlpy"
      ],
      "metadata": {
        "colab": {
          "base_uri": "https://localhost:8080/"
        },
        "id": "imC2TmB9B6r4",
        "outputId": "fe17a1d6-0883-42b7-8421-dfd46f345eb9"
      },
      "execution_count": 13,
      "outputs": [
        {
          "output_type": "stream",
          "name": "stdout",
          "text": [
            "Looking in indexes: https://pypi.org/simple, https://us-python.pkg.dev/colab-wheels/public/simple/\n",
            "Collecting konlpy\n",
            "  Downloading konlpy-0.6.0-py2.py3-none-any.whl (19.4 MB)\n",
            "\u001b[K     |████████████████████████████████| 19.4 MB 6.9 MB/s \n",
            "\u001b[?25hCollecting JPype1>=0.7.0\n",
            "  Downloading JPype1-1.4.1-cp37-cp37m-manylinux_2_12_x86_64.manylinux2010_x86_64.whl (465 kB)\n",
            "\u001b[K     |████████████████████████████████| 465 kB 58.5 MB/s \n",
            "\u001b[?25hRequirement already satisfied: lxml>=4.1.0 in /usr/local/lib/python3.7/dist-packages (from konlpy) (4.9.1)\n",
            "Requirement already satisfied: numpy>=1.6 in /usr/local/lib/python3.7/dist-packages (from konlpy) (1.21.6)\n",
            "Requirement already satisfied: packaging in /usr/local/lib/python3.7/dist-packages (from JPype1>=0.7.0->konlpy) (21.3)\n",
            "Requirement already satisfied: typing-extensions in /usr/local/lib/python3.7/dist-packages (from JPype1>=0.7.0->konlpy) (4.1.1)\n",
            "Requirement already satisfied: pyparsing!=3.0.5,>=2.0.2 in /usr/local/lib/python3.7/dist-packages (from packaging->JPype1>=0.7.0->konlpy) (3.0.9)\n",
            "Installing collected packages: JPype1, konlpy\n",
            "Successfully installed JPype1-1.4.1 konlpy-0.6.0\n"
          ]
        }
      ]
    },
    {
      "cell_type": "code",
      "source": [
        "import os\n",
        "import pandas as pd\n",
        "from konlpy.tag import Kkma  \n",
        "#os.chdir('./103')\n",
        "files = os.listdir()\n",
        "path = files[0]"
      ],
      "metadata": {
        "id": "KvukV3_ZA0Ti"
      },
      "execution_count": 14,
      "outputs": []
    },
    {
      "cell_type": "code",
      "source": [
        "kkma=Kkma()  \n",
        "result = []\n",
        "def expo(path) :\n",
        "  nouns = []\n",
        "  with open(path, \"r\", encoding='utf-8') as f:\n",
        "    s = f.read()\n",
        "    nouns = kkma.nouns(s)\n",
        "  \n",
        "  return nouns"
      ],
      "metadata": {
        "id": "7_I2edE1BCtH"
      },
      "execution_count": 23,
      "outputs": []
    },
    {
      "cell_type": "code",
      "source": [
        "for file in files:\n",
        "  result.append(expo(file))"
      ],
      "metadata": {
        "id": "FnibsUtiCxfG"
      },
      "execution_count": 24,
      "outputs": []
    },
    {
      "cell_type": "code",
      "source": [
        "# kkma 형태소 분석기 사용\n",
        "# df 데이터프레임을 DTM로 만들기\n",
        "# 행렬의 값은 TF(Term Frequency)가 되도록 CountVectorizer 사용"
      ],
      "metadata": {
        "id": "wE3BcUiYOqDD"
      },
      "execution_count": null,
      "outputs": []
    },
    {
      "cell_type": "code",
      "source": [
        "import os\n",
        "import numpy as np\n",
        "import pandas as pd\n",
        "from sklearn.model_selection import train_test_split\n",
        "from konlpy.tag import Kkma  \n",
        "from sklearn.feature_extraction.text import CountVectorizer\n",
        "#os.chdir('./..')\n",
        "files1 = os.listdir('./103')   #압축이 풀린 103폴더의 파일들을 읽음\n",
        "files2 = os.listdir('./105')   #압축이 풀린 105폴더의 파일들을 읽음\n",
        "y = []\n",
        "x = []\n",
        "\n",
        "#txt파일을 읽어서 파일 내용을 x라는 리스트에 추가\n",
        "def add_file(path):\n",
        "    with open(path, \"r\", encoding=\"utf-8\") as f:\n",
        "        s = f.read()\n",
        "        x.append(s)\n",
        "\n",
        "for f in files1:  #파일갯수만큼 반복\n",
        "     add_file(\"103/\"+f) #103폴더 신문기사가 X에 추가\n",
        "     y.append(0)#103폴더 신문기사만큼 y에 0값을 추가, 0은 103을 나타내는 범주\n",
        "\n",
        "for f in files2:\n",
        "     add_file(\"105/\"+f)\n",
        "     y.append(1)  #105를 나타내는 범주 1\n",
        "\n",
        "df = pd.DataFrame( {'label':y, 'articles':x })\n",
        "train_df, test_df = train_test_split( df, test_size=0.2)\n",
        "\n",
        "morphs = Kkma()\n",
        "def token(text):\n",
        "    tokens_ko = morphs.nouns(text)\n",
        "    return tokens_ko\n",
        "\n",
        "token(df['articles'][0])  \n",
        "\n",
        "tfidf_vect = CountVectorizer(tokenizer=token, min_df=10)\n",
        "tfidf_vect.fit(train_df['articles'])  #train의 명사를 뽑은 것까지"
      ],
      "metadata": {
        "colab": {
          "base_uri": "https://localhost:8080/"
        },
        "id": "rWt1Cb26PEQ3",
        "outputId": "4cc32037-0526-47b7-d3e0-413d88d75749"
      },
      "execution_count": 30,
      "outputs": [
        {
          "output_type": "stream",
          "name": "stderr",
          "text": [
            "/usr/local/lib/python3.7/dist-packages/sklearn/feature_extraction/text.py:517: UserWarning: The parameter 'token_pattern' will not be used since 'tokenizer' is not None'\n",
            "  \"The parameter 'token_pattern' will not be used\"\n"
          ]
        },
        {
          "output_type": "execute_result",
          "data": {
            "text/plain": [
              "CountVectorizer(min_df=10, tokenizer=<function token at 0x7f45aa2c65f0>)"
            ]
          },
          "metadata": {},
          "execution_count": 30
        }
      ]
    },
    {
      "cell_type": "code",
      "source": [
        "tfidf_matrix_train = tfidf_vect.transform(train_df['articles'])\n",
        "tfidf_matrix_train"
      ],
      "metadata": {
        "colab": {
          "base_uri": "https://localhost:8080/"
        },
        "id": "4qouNVqSPGWu",
        "outputId": "3b8b4dfb-fa44-4f99-ee54-bba6f274d14a"
      },
      "execution_count": 31,
      "outputs": [
        {
          "output_type": "execute_result",
          "data": {
            "text/plain": [
              "<320x1694 sparse matrix of type '<class 'numpy.int64'>'\n",
              "\twith 48775 stored elements in Compressed Sparse Row format>"
            ]
          },
          "metadata": {},
          "execution_count": 31
        }
      ]
    },
    {
      "cell_type": "code",
      "source": [
        "# 위의 예제를 news.zip으로 해서 다시 작업\n",
        "# Okt, 파티셔닝 8:2\n",
        "# RF로 accuracy 출력"
      ],
      "metadata": {
        "id": "nNh-eer4S_5H"
      },
      "execution_count": null,
      "outputs": []
    },
    {
      "cell_type": "code",
      "source": [
        "!unzip news.zip"
      ],
      "metadata": {
        "id": "YHP6WiecTGrM"
      },
      "execution_count": null,
      "outputs": []
    },
    {
      "cell_type": "code",
      "source": [
        "import os\n",
        "import numpy as np\n",
        "import pandas as pd\n",
        "from sklearn.model_selection import train_test_split\n",
        "from konlpy.tag import Okt  \n",
        "from sklearn.feature_extraction.text import CountVectorizer\n",
        "from sklearn.feature_extraction.text import TfidfVectorizer\n",
        "\n",
        "from sklearn.ensemble import RandomForestClassifier\n",
        "from sklearn.metrics import accuracy_score\n",
        "#os.chdir('./..')\n",
        "files1 = os.listdir('./103')   #압축이 풀린 103폴더의 파일들을 읽음\n",
        "files2 = os.listdir('./105')   #압축이 풀린 105폴더의 파일들을 읽음\n",
        "y = []\n",
        "x = []\n",
        "\n",
        "#txt파일을 읽어서 파일 내용을 x라는 리스트에 추가\n",
        "def add_file(path):\n",
        "    with open(path, \"r\", encoding=\"utf-8\") as f:\n",
        "        s = f.read()\n",
        "        x.append(s)\n",
        "\n",
        "for f in files1:  #파일갯수만큼 반복\n",
        "     add_file(\"103/\"+f) #103폴더 신문기사가 X에 추가\n",
        "     y.append(0)#103폴더 신문기사만큼 y에 0값을 추가, 0은 103을 나타내는 범주\n",
        "\n",
        "for f in files2:\n",
        "     add_file(\"105/\"+f)\n",
        "     y.append(1)  #105를 나타내는 범주 1\n",
        "\n",
        "df = pd.DataFrame( {'label':y, 'articles':x })\n",
        "train_df, test_df = train_test_split( df, test_size=0.2)\n",
        "\n",
        "morphs = Okt()\n",
        "def token(text):\n",
        "    tokens_ko = morphs.nouns(text)\n",
        "    return tokens_ko\n",
        "\n",
        "token(df['articles'][0])  \n",
        "\n",
        "tfidf_vect = TfidfVectorizer(tokenizer=token, min_df=10)\n",
        "tfidf_vect.fit(train_df['articles'])  #train의 명사를 뽑은 것까지"
      ],
      "metadata": {
        "colab": {
          "base_uri": "https://localhost:8080/"
        },
        "id": "tmxBHZnRTWzB",
        "outputId": "d143c11f-f21f-4add-caf9-bdefb0dae2a8"
      },
      "execution_count": 36,
      "outputs": [
        {
          "output_type": "stream",
          "name": "stderr",
          "text": [
            "/usr/local/lib/python3.7/dist-packages/sklearn/feature_extraction/text.py:517: UserWarning: The parameter 'token_pattern' will not be used since 'tokenizer' is not None'\n",
            "  \"The parameter 'token_pattern' will not be used\"\n"
          ]
        },
        {
          "output_type": "execute_result",
          "data": {
            "text/plain": [
              "TfidfVectorizer(min_df=10, tokenizer=<function token at 0x7f45a9720cb0>)"
            ]
          },
          "metadata": {},
          "execution_count": 36
        }
      ]
    },
    {
      "cell_type": "code",
      "source": [
        "tfidf_matrix_train = tfidf_vect.transform(train_df['articles'])\n",
        "tfidf_matrix_test = tfidf_vect.transform(test_df['articles'])\n",
        "rf = RandomForestClassifier(random_state=0, n_estimators=1000)  \n",
        "rf.fit(tfidf_matrix_train , train_df['label']  )  #모델링\n",
        "preds1 = rf.predict(tfidf_matrix_test) #테스트셋으로 감성예측\n",
        "print('Accuracy: ',accuracy_score(test_df['label'],preds1))#정답율"
      ],
      "metadata": {
        "colab": {
          "base_uri": "https://localhost:8080/"
        },
        "id": "TrHJAvKhX-9U",
        "outputId": "205e2d79-26c0-481c-a30d-1d5f16eb40ae"
      },
      "execution_count": 38,
      "outputs": [
        {
          "output_type": "stream",
          "name": "stdout",
          "text": [
            "Accuracy:  0.903125\n"
          ]
        }
      ]
    },
    {
      "cell_type": "code",
      "source": [
        "# 수집대상 뉴스 검색 및 제목 저장\n",
        "# 원하시는 검색어로 20일 이상의 뉴스 검색 및 수집\n",
        "# 수집된 텍스트 DTM\n",
        "# Okt로 명사만 추출"
      ],
      "metadata": {
        "id": "Aj7sc8Q28HwM"
      },
      "execution_count": null,
      "outputs": []
    },
    {
      "cell_type": "code",
      "source": [
        "from bs4 import BeautifulSoup\n",
        "from lxml import etree\n",
        "from urllib import parse\n",
        "import requests\n",
        "import urllib.request\n",
        "import urllib.parse\n",
        "import numpy as np\n",
        "import pandas as pd\n",
        "import time\n",
        "\n",
        "#----------------------------------------------#\n",
        "#변경할 부분\n",
        "startdate = \"2022.10.01\"\n",
        "enddate = \"2022.11.03\"\n",
        "searchword =\"월드컵\"#검색어\n",
        "#----------------------------------------------#\n",
        "\n",
        "base_url = \"https://search.naver.com/search.naver?where=news&sm=tab_pge&query\"+parse.urlencode([('',searchword)], doseq=True)+\"&sort=1&photo=3&field=0&pd=3&ds=\"+startdate+\"&de=\"+enddate+\"&mynews=1&office_type=0&office_section_code=0&news_office_checked=&nso=so:dd,p:from\"+startdate.replace(\".\", \"\")+\"to\"+enddate.replace(\".\", \"\")+\",a:all&mynews=0&start=\"\n",
        "titles = [ ]\n",
        "urls = [ ]\n",
        "i=1\n",
        "\n",
        "while True:\n",
        " try:\n",
        "    time.sleep(0.45)\n",
        "    url = base_url+str(i)\n",
        "    html = urllib.request.urlopen(url).read()\n",
        "    soup = BeautifulSoup(html, 'html.parser')\n",
        "    t_news = soup.select('a.news_tit')  #클래스 표시\n",
        "    t_len = len(t_news)\n",
        "\n",
        "    if t_len <1:\n",
        "        break\n",
        "\n",
        "    for j in np.arange(t_len)+1:\n",
        "            try: \n",
        "                titles.append(soup.select('a.news_tit')[j].text)\n",
        "                urls.append(soup.select('a.info')[j]['href'])\n",
        "            except Exception as e:\n",
        "                continue\n",
        "    i=i+10\n",
        "    \n",
        " except Exception as e:\n",
        "    continue\n",
        "\n",
        "result = pd.DataFrame({\"Url\": urls, \"Title\":titles})\n",
        "result.Url[0]"
      ],
      "metadata": {
        "colab": {
          "base_uri": "https://localhost:8080/",
          "height": 35
        },
        "id": "hKnKfXzm8P9Z",
        "outputId": "73c7e0fa-5b4b-403f-ae69-ec304c9ff095"
      },
      "execution_count": 42,
      "outputs": [
        {
          "output_type": "execute_result",
          "data": {
            "text/plain": [
              "'https://sports.news.naver.com/news.nhn?oid=023&aid=0003726213'"
            ],
            "application/vnd.google.colaboratory.intrinsic+json": {
              "type": "string"
            }
          },
          "metadata": {},
          "execution_count": 42
        }
      ]
    },
    {
      "cell_type": "code",
      "source": [
        "Okt = Okt()\n",
        "def token(text):\n",
        "    tokens_ko = Okt.nouns(text)\n",
        "    return tokens_ko\n",
        "\n",
        "#token(df['Title'][0])  \n",
        "\n",
        "tfidf_vect = TfidfVectorizer(tokenizer=token, min_df=10)\n",
        "tfidf_vect.fit(result['Title'])  #train의 명사를 뽑은 것까지"
      ],
      "metadata": {
        "colab": {
          "base_uri": "https://localhost:8080/"
        },
        "id": "4SVoA_a18-4Q",
        "outputId": "59fb794c-bfc3-4bfa-afb0-bb30f58f7f6e"
      },
      "execution_count": 44,
      "outputs": [
        {
          "output_type": "stream",
          "name": "stderr",
          "text": [
            "/usr/local/lib/python3.7/dist-packages/sklearn/feature_extraction/text.py:517: UserWarning: The parameter 'token_pattern' will not be used since 'tokenizer' is not None'\n",
            "  \"The parameter 'token_pattern' will not be used\"\n"
          ]
        },
        {
          "output_type": "execute_result",
          "data": {
            "text/plain": [
              "TfidfVectorizer(min_df=10, tokenizer=<function token at 0x7f45a7adb3b0>)"
            ]
          },
          "metadata": {},
          "execution_count": 44
        }
      ]
    },
    {
      "cell_type": "code",
      "source": [
        "tfidf_matrix_train = tfidf_vect.transform(result['Title']) "
      ],
      "metadata": {
        "id": "a4eJNsLO9bpj"
      },
      "execution_count": 46,
      "outputs": []
    },
    {
      "cell_type": "code",
      "source": [
        "tfidf_matrix_train"
      ],
      "metadata": {
        "colab": {
          "base_uri": "https://localhost:8080/"
        },
        "id": "JOtegWUU9h4j",
        "outputId": "a3d7b3f1-5393-40bd-bfb2-cc60a8f2ede5"
      },
      "execution_count": 47,
      "outputs": [
        {
          "output_type": "execute_result",
          "data": {
            "text/plain": [
              "<518x38 sparse matrix of type '<class 'numpy.float64'>'\n",
              "\twith 672 stored elements in Compressed Sparse Row format>"
            ]
          },
          "metadata": {},
          "execution_count": 47
        }
      ]
    },
    {
      "cell_type": "code",
      "source": [
        "# 예제파일 수정하여\n",
        "# ratings_test.txt 리드, 1500행 선택\n",
        "# train, test 8:2\n",
        "# okt로 형태소분석, 모든 형태소를 사용해보기\n",
        "# dtm 생성\n",
        "# 분류 모형을 적용(target: label)하고 테스트셋 적용 정분류율 구하기"
      ],
      "metadata": {
        "id": "1fBwrH7PIw9C"
      },
      "execution_count": null,
      "outputs": []
    },
    {
      "cell_type": "code",
      "source": [
        "!wget https://github.com/rickiepark/python-machine-learning-book-3rd-edition/raw/master/ch08/ratings_train.txt -O ratings_train.txt\n",
        "!wget https://github.com/rickiepark/python-machine-learning-book-3rd-edition/raw/master/ch08/ratings_train.txt -O ratings_test.txt"
      ],
      "metadata": {
        "colab": {
          "base_uri": "https://localhost:8080/"
        },
        "id": "HjiJwKAeIqEz",
        "outputId": "0de55821-26c9-43c0-98d6-ef1e0c749438"
      },
      "execution_count": 1,
      "outputs": [
        {
          "output_type": "stream",
          "name": "stdout",
          "text": [
            "--2022-11-04 07:58:36--  https://github.com/rickiepark/python-machine-learning-book-3rd-edition/raw/master/ch08/ratings_train.txt\n",
            "Resolving github.com (github.com)... 140.82.112.4\n",
            "Connecting to github.com (github.com)|140.82.112.4|:443... connected.\n",
            "HTTP request sent, awaiting response... 302 Found\n",
            "Location: https://raw.githubusercontent.com/rickiepark/python-machine-learning-book-3rd-edition/master/ch08/ratings_train.txt [following]\n",
            "--2022-11-04 07:58:36--  https://raw.githubusercontent.com/rickiepark/python-machine-learning-book-3rd-edition/master/ch08/ratings_train.txt\n",
            "Resolving raw.githubusercontent.com (raw.githubusercontent.com)... 185.199.108.133, 185.199.109.133, 185.199.110.133, ...\n",
            "Connecting to raw.githubusercontent.com (raw.githubusercontent.com)|185.199.108.133|:443... connected.\n",
            "HTTP request sent, awaiting response... 200 OK\n",
            "Length: 14628807 (14M) [text/plain]\n",
            "Saving to: ‘ratings_train.txt’\n",
            "\n",
            "ratings_train.txt   100%[===================>]  13.95M  --.-KB/s    in 0.07s   \n",
            "\n",
            "2022-11-04 07:58:37 (191 MB/s) - ‘ratings_train.txt’ saved [14628807/14628807]\n",
            "\n",
            "--2022-11-04 07:58:37--  https://github.com/rickiepark/python-machine-learning-book-3rd-edition/raw/master/ch08/ratings_train.txt\n",
            "Resolving github.com (github.com)... 140.82.112.4\n",
            "Connecting to github.com (github.com)|140.82.112.4|:443... connected.\n",
            "HTTP request sent, awaiting response... 302 Found\n",
            "Location: https://raw.githubusercontent.com/rickiepark/python-machine-learning-book-3rd-edition/master/ch08/ratings_train.txt [following]\n",
            "--2022-11-04 07:58:37--  https://raw.githubusercontent.com/rickiepark/python-machine-learning-book-3rd-edition/master/ch08/ratings_train.txt\n",
            "Resolving raw.githubusercontent.com (raw.githubusercontent.com)... 185.199.108.133, 185.199.109.133, 185.199.110.133, ...\n",
            "Connecting to raw.githubusercontent.com (raw.githubusercontent.com)|185.199.108.133|:443... connected.\n",
            "HTTP request sent, awaiting response... 200 OK\n",
            "Length: 14628807 (14M) [text/plain]\n",
            "Saving to: ‘ratings_test.txt’\n",
            "\n",
            "ratings_test.txt    100%[===================>]  13.95M  --.-KB/s    in 0.06s   \n",
            "\n",
            "2022-11-04 07:58:37 (221 MB/s) - ‘ratings_test.txt’ saved [14628807/14628807]\n",
            "\n"
          ]
        }
      ]
    },
    {
      "cell_type": "code",
      "source": [
        "import pandas as pd\n",
        "from sklearn.model_selection import train_test_split\n",
        "from konlpy.tag import Okt  \n",
        "from sklearn.feature_extraction.text import CountVectorizer\n",
        "from sklearn.feature_extraction.text import TfidfVectorizer\n",
        "\n",
        "ratings_test = pd.read_csv('ratings_test.txt', sep='\\t')#탭으로 값이 구분된 파일\n",
        "ratings_test = ratings_test.iloc[0:1500, :] \n",
        "train_df, test_df = train_test_split( ratings_test, test_size=0.2)\n",
        "Okt = Okt()\n",
        "\n",
        "def movie_token_n(text):\n",
        "    tokens_ko = Okt.nouns(text)\n",
        "    return tokens_ko\n",
        "\n",
        "tfidf_vect = TfidfVectorizer(tokenizer=movie_token_n, min_df=10)\n",
        "tfidf_vect.fit(train_df['document']) \n",
        "tfidf_matrix_train = tfidf_vect.transform(train_df['document'])\n",
        "tfidf_matrix_test = tfidf_vect.transform(test_df['document'])"
      ],
      "metadata": {
        "colab": {
          "base_uri": "https://localhost:8080/"
        },
        "id": "6jC6UaW1ItW1",
        "outputId": "c0f9d629-f4a5-4ac1-ca45-3fd63cf4544c"
      },
      "execution_count": 53,
      "outputs": [
        {
          "output_type": "stream",
          "name": "stderr",
          "text": [
            "/usr/local/lib/python3.7/dist-packages/sklearn/feature_extraction/text.py:517: UserWarning: The parameter 'token_pattern' will not be used since 'tokenizer' is not None'\n",
            "  \"The parameter 'token_pattern' will not be used\"\n"
          ]
        }
      ]
    },
    {
      "cell_type": "code",
      "source": [
        "#RF 이용하여 감성 분석 Classification 수행. \n",
        "from sklearn.ensemble import RandomForestClassifier\n",
        "from sklearn.metrics import accuracy_score\n",
        "\n",
        "#n_estimators: RF에 들어가는 tree의 개수\n",
        "rf = RandomForestClassifier(random_state=0, n_estimators=1000)  \n",
        "rf.fit(tfidf_matrix_train , train_df['label'])  #모델링\n",
        "preds1 = rf.predict(tfidf_matrix_test) #테스트셋으로 감성예측\n",
        "print('Accuracy: ',accuracy_score(test_df['label'],preds1))#정답율"
      ],
      "metadata": {
        "colab": {
          "base_uri": "https://localhost:8080/"
        },
        "id": "BmYw9IezJyAi",
        "outputId": "77c3d580-de15-4afe-f9a8-8426a2394738"
      },
      "execution_count": 55,
      "outputs": [
        {
          "output_type": "stream",
          "name": "stdout",
          "text": [
            "Accuracy:  0.61\n"
          ]
        }
      ]
    },
    {
      "cell_type": "code",
      "source": [
        "def movie_token_m(text):\n",
        "    tokens_ko = Okt.morphs(text)\n",
        "    return tokens_ko\n",
        "\n",
        "tfidf_vect2 = TfidfVectorizer(tokenizer=movie_token_m, min_df=10)\n",
        "tfidf_vect2.fit(train_df['document']) \n",
        "tfidf_matrix_train2 = tfidf_vect2.transform(train_df['document'])\n",
        "tfidf_matrix_test2 = tfidf_vect2.transform(test_df['document'])"
      ],
      "metadata": {
        "colab": {
          "base_uri": "https://localhost:8080/"
        },
        "id": "a0PWdmeyKaCe",
        "outputId": "3bbfb06a-d00a-4c9b-e900-c0416b2fbe43"
      },
      "execution_count": 59,
      "outputs": [
        {
          "output_type": "stream",
          "name": "stderr",
          "text": [
            "/usr/local/lib/python3.7/dist-packages/sklearn/feature_extraction/text.py:517: UserWarning: The parameter 'token_pattern' will not be used since 'tokenizer' is not None'\n",
            "  \"The parameter 'token_pattern' will not be used\"\n"
          ]
        }
      ]
    },
    {
      "cell_type": "code",
      "source": [
        "rf2 = RandomForestClassifier(random_state=0, n_estimators=1000)  \n",
        "rf2.fit(tfidf_matrix_train2 , train_df['label'])  #모델링\n",
        "preds2 = rf2.predict(tfidf_matrix_test2) #테스트셋으로 감성예측\n",
        "print('Accuracy: ',accuracy_score(test_df['label'],preds2))#정답율"
      ],
      "metadata": {
        "colab": {
          "base_uri": "https://localhost:8080/"
        },
        "id": "Rqj21T-gLTgN",
        "outputId": "fe545186-5012-43ca-ab94-b783660d1f68"
      },
      "execution_count": 61,
      "outputs": [
        {
          "output_type": "stream",
          "name": "stdout",
          "text": [
            "Accuracy:  0.62\n"
          ]
        }
      ]
    },
    {
      "cell_type": "code",
      "source": [
        "# 현재 군집 갯수는 4개, 최적 군집 개수 찾기\n",
        "# k 범위는 3~15 안에서 최적 군집갯수 찾기\n",
        "# intertia_ 참고"
      ],
      "metadata": {
        "id": "ThmQJ9mebB1m"
      },
      "execution_count": null,
      "outputs": []
    },
    {
      "cell_type": "code",
      "source": [
        "from sklearn.cluster import KMeans\n",
        "inertia_arr=[]\n",
        "for k in range(3,15):\n",
        "    km_cluster = KMeans(n_clusters=k, random_state=0)\n",
        "    km_cluster.fit(tfidf_matrix_train)  #DTM을 입력으로 넣음\n",
        "    cluster_label = km_cluster.labels_\n",
        "    inertia = km_cluster.inertia_\n",
        "    print(' k :',k, 'inertia :', inertia)\n",
        "    \n",
        "    inertia_arr.append(inertia)"
      ],
      "metadata": {
        "colab": {
          "base_uri": "https://localhost:8080/"
        },
        "id": "8VUkyXVvbJlB",
        "outputId": "0d1b9b59-5dd9-477a-bef6-48cd331b5b17"
      },
      "execution_count": 65,
      "outputs": [
        {
          "output_type": "stream",
          "name": "stdout",
          "text": [
            " k : 3 inertia : 815.9939736626538\n",
            " k : 4 inertia : 803.27011091634\n",
            " k : 5 inertia : 786.8194698637\n",
            " k : 6 inertia : 773.4819984882561\n",
            " k : 7 inertia : 762.2382623199621\n",
            " k : 8 inertia : 742.139020797262\n",
            " k : 9 inertia : 727.2060842611794\n",
            " k : 10 inertia : 719.6894333843138\n",
            " k : 11 inertia : 704.8732740224532\n",
            " k : 12 inertia : 691.5150178430999\n",
            " k : 13 inertia : 682.3952015345158\n",
            " k : 14 inertia : 670.3237629635303\n"
          ]
        }
      ]
    },
    {
      "cell_type": "code",
      "source": [
        "import matplotlib.pyplot as plt\n",
        "plt.plot(range(3,15), inertia_arr, marker = 'o')"
      ],
      "metadata": {
        "colab": {
          "base_uri": "https://localhost:8080/",
          "height": 283
        },
        "id": "4bWJYaunbrsO",
        "outputId": "0479a106-63ba-404a-c380-9352c080c0ed"
      },
      "execution_count": 68,
      "outputs": [
        {
          "output_type": "execute_result",
          "data": {
            "text/plain": [
              "[<matplotlib.lines.Line2D at 0x7f45a4a29e90>]"
            ]
          },
          "metadata": {},
          "execution_count": 68
        },
        {
          "output_type": "display_data",
          "data": {
            "text/plain": [
              "<Figure size 432x288 with 1 Axes>"
            ],
            "image/png": "[encoded data removed]"
          },
          "metadata": {
            "needs_background": "light"
          }
        }
      ]
    },
    {
      "cell_type": "code",
      "source": [
        "# 영화 리뷰 ratings_train.txt 파일에서 1000개만 사용하여 gensim을 이용 토픽 발견\n",
        "# 한글 아닌것 제거\n",
        "# okt 이용 명사만 추출\n",
        "# 토픽은 10,12,14,16,18개 중에서 최적의 갯수 찾기"
      ],
      "metadata": {
        "id": "fdK2yrfCpTlf"
      },
      "execution_count": null,
      "outputs": []
    },
    {
      "cell_type": "code",
      "source": [
        "!wget https://github.com/rickiepark/python-machine-learning-book-3rd-edition/raw/master/ch08/ratings_train.txt -O ratings_train.txt"
      ],
      "metadata": {
        "id": "VpCCdUBGpjpr"
      },
      "execution_count": null,
      "outputs": []
    },
    {
      "cell_type": "code",
      "source": [
        "import pandas as pd\n",
        "from konlpy.tag import Okt  \n",
        "from tqdm import tqdm\n",
        "\n",
        "ratings_train = pd.read_csv('ratings_train.txt', sep='\\t')#탭으로 값이 구분된 파일\n",
        "ratings_train = ratings_train.iloc[0:1000, :] \n",
        "\n",
        "ratings_train['document'] = ratings_train['document'].str.replace(\"[^ㄱ-ㅎㅏ-ㅣ가-힣 ]\",\"\")\n",
        "\n",
        "#값을 저장할 비어있는 리스트를 만듬.\n",
        "tokenized_data = []   \n",
        "\n",
        "# 불용어 정의\n",
        "stopwords = ['을', 'ㅋㅋ', \n",
        "             '부터', '까지' '적', '의','가','이','은',\n",
        "             '들','는','좀','잘','걍','과','도','를','으로',\n",
        "             '자','에','와','한','하다', '점', '나']\n",
        "\n",
        "# 형태소 분석기 OKT를 사용한 토큰화 작업 (다소 시간 소요)\n",
        "okt = Okt()\n",
        "\n",
        "for sentence in tqdm(ratings_train['document']): #리뷰 각각에 대해서 아래작업 반복\n",
        "    tokenized_sentence = okt.nouns(sentence)  #각 리뷰에서 명사만 뽑아서 리스트\n",
        "    #위에서 명사만 추출한 결과에서, 각 명사가 stopwords인지 체크하고\n",
        "    #stopwords 아닌 명사만 사용함\n",
        "    stopwords_removed_sentence = [word for word in tokenized_sentence if not word in stopwords] # 불용어 제거\n",
        "    tokenized_data.append(stopwords_removed_sentence)"
      ],
      "metadata": {
        "colab": {
          "base_uri": "https://localhost:8080/"
        },
        "id": "1XLM5gHxplZX",
        "outputId": "a99789bb-3a06-4a61-e193-37bc224b1157"
      },
      "execution_count": 8,
      "outputs": [
        {
          "output_type": "stream",
          "name": "stderr",
          "text": [
            "/usr/local/lib/python3.7/dist-packages/ipykernel_launcher.py:8: FutureWarning: The default value of regex will change from True to False in a future version.\n",
            "  \n",
            "100%|██████████| 1000/1000 [00:28<00:00, 35.40it/s]\n"
          ]
        }
      ]
    },
    {
      "cell_type": "code",
      "source": [
        "from gensim import corpora\n",
        "dictionary = corpora.Dictionary(tokenized_data) #사전 구성\n",
        "corpus = [dictionary.doc2bow(text) for text in tokenized_data]  \n",
        "\n",
        "from gensim.models.ldamodel import LdaModel \n",
        "from gensim.models.coherencemodel import CoherenceModel \n",
        "\n",
        "coherence_values = [] \n",
        "model_list = [] \n",
        "iters = [10,12,14,16,18]\n",
        "\n",
        "for num_topics in iters: \n",
        "     model = LdaModel(corpus=corpus, id2word=dictionary, num_topics=num_topics) \n",
        "     model_list.append(model) \n",
        "     coherencemodel = CoherenceModel(model=model, texts=tokenized_data, dictionary=dictionary, coherence='c_v') \n",
        "     coherence_values.append(coherencemodel.get_coherence()) \n",
        "\n",
        "for i in range(0, len(iters)):\n",
        "  print(model_list[i], coherence_values[i])  #topic num별로 coherence 가 높은 것을 찾기"
      ],
      "metadata": {
        "colab": {
          "base_uri": "https://localhost:8080/"
        },
        "id": "_twVk1fhq1-p",
        "outputId": "5b213635-4c58-4d3a-e10b-f4657f0f08db"
      },
      "execution_count": 9,
      "outputs": [
        {
          "output_type": "stream",
          "name": "stderr",
          "text": [
            "WARNING:gensim.models.ldamodel:too few updates, training might not converge; consider increasing the number of passes or iterations to improve accuracy\n",
            "WARNING:gensim.models.ldamodel:too few updates, training might not converge; consider increasing the number of passes or iterations to improve accuracy\n",
            "WARNING:gensim.models.ldamodel:too few updates, training might not converge; consider increasing the number of passes or iterations to improve accuracy\n",
            "WARNING:gensim.models.ldamodel:too few updates, training might not converge; consider increasing the number of passes or iterations to improve accuracy\n",
            "WARNING:gensim.models.ldamodel:too few updates, training might not converge; consider increasing the number of passes or iterations to improve accuracy\n"
          ]
        },
        {
          "output_type": "stream",
          "name": "stdout",
          "text": [
            "LdaModel(num_terms=2369, num_topics=10, decay=0.5, chunksize=2000) 0.4190996259410107\n",
            "LdaModel(num_terms=2369, num_topics=12, decay=0.5, chunksize=2000) 0.43937567355234824\n",
            "LdaModel(num_terms=2369, num_topics=14, decay=0.5, chunksize=2000) 0.4543088780460846\n",
            "LdaModel(num_terms=2369, num_topics=16, decay=0.5, chunksize=2000) 0.4684286351719893\n",
            "LdaModel(num_terms=2369, num_topics=18, decay=0.5, chunksize=2000) 0.49631502788237747\n"
          ]
        }
      ]
    }
  ]
}